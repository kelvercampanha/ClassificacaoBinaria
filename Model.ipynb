{
 "cells": [
  {
   "cell_type": "code",
   "execution_count": 1,
   "metadata": {
    "ExecuteTime": {
     "end_time": "2019-08-11T12:14:48.662352Z",
     "start_time": "2019-08-11T12:14:45.461134Z"
    }
   },
   "outputs": [],
   "source": [
    "#Pacotes\n",
    "import pandas as pd\n",
    "import numpy as np\n",
    "\n",
    "from sklearn.linear_model import LogisticRegression\n",
    "from sklearn.tree import DecisionTreeClassifier\n",
    "from sklearn.model_selection import GridSearchCV\n",
    "from sklearn.model_selection import train_test_split\n",
    "from sklearn.model_selection import cross_val_score\n",
    "from sklearn.naive_bayes import GaussianNB\n",
    "from sklearn.ensemble import RandomForestClassifier\n",
    "from sklearn.ensemble import GradientBoostingClassifier\n",
    "from sklearn import svm\n",
    "from sklearn.discriminant_analysis import LinearDiscriminantAnalysis\n",
    "from sklearn.discriminant_analysis import QuadraticDiscriminantAnalysis\n",
    "from sklearn.neighbors import KNeighborsClassifier\n",
    "from xgboost import XGBClassifier\n",
    "import lightgbm as lgbm\n",
    "\n",
    "from sklearn.metrics import precision_score,\\\n",
    "    recall_score, classification_report,\\\n",
    "    accuracy_score, f1_score"
   ]
  },
  {
   "cell_type": "code",
   "execution_count": 2,
   "metadata": {
    "ExecuteTime": {
     "end_time": "2019-08-11T12:14:48.760061Z",
     "start_time": "2019-08-11T12:14:48.665127Z"
    }
   },
   "outputs": [
    {
     "data": {
      "text/html": [
       "<div>\n",
       "<style scoped>\n",
       "    .dataframe tbody tr th:only-of-type {\n",
       "        vertical-align: middle;\n",
       "    }\n",
       "\n",
       "    .dataframe tbody tr th {\n",
       "        vertical-align: top;\n",
       "    }\n",
       "\n",
       "    .dataframe thead th {\n",
       "        text-align: right;\n",
       "    }\n",
       "</style>\n",
       "<table border=\"1\" class=\"dataframe\">\n",
       "  <thead>\n",
       "    <tr style=\"text-align: right;\">\n",
       "      <th></th>\n",
       "      <th>Temp1</th>\n",
       "      <th>Temp2</th>\n",
       "      <th>Temp3</th>\n",
       "      <th>Temp4</th>\n",
       "      <th>target</th>\n",
       "    </tr>\n",
       "  </thead>\n",
       "  <tbody>\n",
       "    <tr>\n",
       "      <th>0</th>\n",
       "      <td>37.861329</td>\n",
       "      <td>19.500455</td>\n",
       "      <td>36.650759</td>\n",
       "      <td>29.950579</td>\n",
       "      <td>0</td>\n",
       "    </tr>\n",
       "    <tr>\n",
       "      <th>1</th>\n",
       "      <td>43.368864</td>\n",
       "      <td>33.651709</td>\n",
       "      <td>35.363611</td>\n",
       "      <td>34.857155</td>\n",
       "      <td>1</td>\n",
       "    </tr>\n",
       "    <tr>\n",
       "      <th>2</th>\n",
       "      <td>29.558386</td>\n",
       "      <td>38.748206</td>\n",
       "      <td>36.079785</td>\n",
       "      <td>35.487638</td>\n",
       "      <td>1</td>\n",
       "    </tr>\n",
       "    <tr>\n",
       "      <th>3</th>\n",
       "      <td>29.352183</td>\n",
       "      <td>32.841901</td>\n",
       "      <td>32.317949</td>\n",
       "      <td>39.671056</td>\n",
       "      <td>1</td>\n",
       "    </tr>\n",
       "    <tr>\n",
       "      <th>4</th>\n",
       "      <td>30.894656</td>\n",
       "      <td>40.579436</td>\n",
       "      <td>21.596942</td>\n",
       "      <td>35.523174</td>\n",
       "      <td>1</td>\n",
       "    </tr>\n",
       "  </tbody>\n",
       "</table>\n",
       "</div>"
      ],
      "text/plain": [
       "       Temp1      Temp2      Temp3      Temp4  target\n",
       "0  37.861329  19.500455  36.650759  29.950579       0\n",
       "1  43.368864  33.651709  35.363611  34.857155       1\n",
       "2  29.558386  38.748206  36.079785  35.487638       1\n",
       "3  29.352183  32.841901  32.317949  39.671056       1\n",
       "4  30.894656  40.579436  21.596942  35.523174       1"
      ]
     },
     "execution_count": 2,
     "metadata": {},
     "output_type": "execute_result"
    }
   ],
   "source": [
    "#Dados\n",
    "df=pd.read_csv('p1_data_train.csv',sep=',')\n",
    "df.head(5)"
   ]
  },
  {
   "cell_type": "code",
   "execution_count": null,
   "metadata": {},
   "outputs": [],
   "source": []
  },
  {
   "cell_type": "code",
   "execution_count": null,
   "metadata": {},
   "outputs": [],
   "source": []
  },
  {
   "cell_type": "code",
   "execution_count": 3,
   "metadata": {
    "ExecuteTime": {
     "end_time": "2019-08-11T12:14:50.472375Z",
     "start_time": "2019-08-11T12:14:48.763059Z"
    }
   },
   "outputs": [
    {
     "name": "stdout",
     "output_type": "stream",
     "text": [
      "Feature ranking:\n",
      "1. feature 3 (0.554902)\n",
      "2. feature 1 (0.287683)\n",
      "3. feature 0 (0.079223)\n",
      "4. feature 2 (0.078192)\n"
     ]
    },
    {
     "data": {
      "text/plain": [
       "<Figure size 640x480 with 1 Axes>"
      ]
     },
     "metadata": {},
     "output_type": "display_data"
    },
    {
     "data": {
      "text/html": [
       "<div>\n",
       "<style scoped>\n",
       "    .dataframe tbody tr th:only-of-type {\n",
       "        vertical-align: middle;\n",
       "    }\n",
       "\n",
       "    .dataframe tbody tr th {\n",
       "        vertical-align: top;\n",
       "    }\n",
       "\n",
       "    .dataframe thead th {\n",
       "        text-align: right;\n",
       "    }\n",
       "</style>\n",
       "<table border=\"1\" class=\"dataframe\">\n",
       "  <thead>\n",
       "    <tr style=\"text-align: right;\">\n",
       "      <th></th>\n",
       "      <th>Temp4</th>\n",
       "      <th>Temp2</th>\n",
       "    </tr>\n",
       "  </thead>\n",
       "  <tbody>\n",
       "    <tr>\n",
       "      <th>0</th>\n",
       "      <td>29.950579</td>\n",
       "      <td>19.500455</td>\n",
       "    </tr>\n",
       "    <tr>\n",
       "      <th>1</th>\n",
       "      <td>34.857155</td>\n",
       "      <td>33.651709</td>\n",
       "    </tr>\n",
       "    <tr>\n",
       "      <th>2</th>\n",
       "      <td>35.487638</td>\n",
       "      <td>38.748206</td>\n",
       "    </tr>\n",
       "    <tr>\n",
       "      <th>3</th>\n",
       "      <td>39.671056</td>\n",
       "      <td>32.841901</td>\n",
       "    </tr>\n",
       "    <tr>\n",
       "      <th>4</th>\n",
       "      <td>35.523174</td>\n",
       "      <td>40.579436</td>\n",
       "    </tr>\n",
       "  </tbody>\n",
       "</table>\n",
       "</div>"
      ],
      "text/plain": [
       "       Temp4      Temp2\n",
       "0  29.950579  19.500455\n",
       "1  34.857155  33.651709\n",
       "2  35.487638  38.748206\n",
       "3  39.671056  32.841901\n",
       "4  35.523174  40.579436"
      ]
     },
     "execution_count": 3,
     "metadata": {},
     "output_type": "execute_result"
    }
   ],
   "source": [
    "#Feature importances with forests of trees\n",
    "\n",
    "import numpy as np\n",
    "import matplotlib.pyplot as plt\n",
    "from sklearn.ensemble import ExtraTreesClassifier\n",
    "\n",
    "X=df[df.columns.difference(['target'])]\n",
    "y=df.target\n",
    "\n",
    "# Build a forest and compute the feature importances\n",
    "forest = ExtraTreesClassifier(n_estimators=250,\n",
    "                              random_state=0)\n",
    "\n",
    "forest.fit(X, y)\n",
    "importances = forest.feature_importances_\n",
    "std = np.std([tree.feature_importances_ for tree in forest.estimators_],\n",
    "             axis=0)\n",
    "indices = np.argsort(importances)[::-1]\n",
    "\n",
    "# Print the feature ranking\n",
    "print(\"Feature ranking:\")\n",
    "\n",
    "for f in range(X.shape[1]):\n",
    "    print(\"%d. feature %d (%f)\" % (f + 1, indices[f], importances[indices[f]]))\n",
    "\n",
    "# Plot the feature importances of the forest\n",
    "plt.figure()\n",
    "plt.title(\"Feature importances\")\n",
    "plt.bar(range(X.shape[1]), importances[indices],\n",
    "       color=\"r\", yerr=std[indices], align=\"center\")\n",
    "plt.xticks(range(X.shape[1]), indices)\n",
    "plt.xlim([-1, X.shape[1]])\n",
    "plt.show()\n",
    "df[df.columns[indices[0:2]]].head(5)"
   ]
  },
  {
   "cell_type": "code",
   "execution_count": 4,
   "metadata": {
    "ExecuteTime": {
     "end_time": "2019-08-11T12:14:50.736223Z",
     "start_time": "2019-08-11T12:14:50.475374Z"
    }
   },
   "outputs": [
    {
     "data": {
      "text/html": [
       "<div>\n",
       "<style scoped>\n",
       "    .dataframe tbody tr th:only-of-type {\n",
       "        vertical-align: middle;\n",
       "    }\n",
       "\n",
       "    .dataframe tbody tr th {\n",
       "        vertical-align: top;\n",
       "    }\n",
       "\n",
       "    .dataframe thead th {\n",
       "        text-align: right;\n",
       "    }\n",
       "</style>\n",
       "<table border=\"1\" class=\"dataframe\">\n",
       "  <thead>\n",
       "    <tr style=\"text-align: right;\">\n",
       "      <th></th>\n",
       "      <th>Temp2</th>\n",
       "      <th>Temp4</th>\n",
       "    </tr>\n",
       "  </thead>\n",
       "  <tbody>\n",
       "    <tr>\n",
       "      <th>0</th>\n",
       "      <td>19.500455</td>\n",
       "      <td>29.950579</td>\n",
       "    </tr>\n",
       "    <tr>\n",
       "      <th>1</th>\n",
       "      <td>33.651709</td>\n",
       "      <td>34.857155</td>\n",
       "    </tr>\n",
       "    <tr>\n",
       "      <th>2</th>\n",
       "      <td>38.748206</td>\n",
       "      <td>35.487638</td>\n",
       "    </tr>\n",
       "    <tr>\n",
       "      <th>3</th>\n",
       "      <td>32.841901</td>\n",
       "      <td>39.671056</td>\n",
       "    </tr>\n",
       "    <tr>\n",
       "      <th>4</th>\n",
       "      <td>40.579436</td>\n",
       "      <td>35.523174</td>\n",
       "    </tr>\n",
       "  </tbody>\n",
       "</table>\n",
       "</div>"
      ],
      "text/plain": [
       "       Temp2      Temp4\n",
       "0  19.500455  29.950579\n",
       "1  33.651709  34.857155\n",
       "2  38.748206  35.487638\n",
       "3  32.841901  39.671056\n",
       "4  40.579436  35.523174"
      ]
     },
     "execution_count": 4,
     "metadata": {},
     "output_type": "execute_result"
    }
   ],
   "source": [
    "import matplotlib.pyplot as plt\n",
    "import numpy as np\n",
    "from sklearn.feature_selection import SelectFromModel\n",
    "from sklearn.ensemble import RandomForestClassifier\n",
    "\n",
    "X=df[df.columns.difference(['target'])]\n",
    "y=df.target\n",
    "\n",
    "# We use the base estimator RandomForestClassifier\n",
    "clf=RandomForestClassifier(max_depth=7,min_samples_split=20,n_estimators=25,random_state=123)\n",
    "model=clf.fit(X,y)\n",
    "\n",
    "# Set a minimum threshold of 0.25\n",
    "sfm = SelectFromModel(clf, threshold=0.25, prefit=True)\n",
    "feature_idx = sfm.get_support()\n",
    "feature_name = X.columns[feature_idx]\n",
    "X[feature_name].head()"
   ]
  },
  {
   "cell_type": "code",
   "execution_count": 5,
   "metadata": {
    "ExecuteTime": {
     "end_time": "2019-08-11T12:14:50.769205Z",
     "start_time": "2019-08-11T12:14:50.742220Z"
    }
   },
   "outputs": [
    {
     "data": {
      "text/html": [
       "<div>\n",
       "<style scoped>\n",
       "    .dataframe tbody tr th:only-of-type {\n",
       "        vertical-align: middle;\n",
       "    }\n",
       "\n",
       "    .dataframe tbody tr th {\n",
       "        vertical-align: top;\n",
       "    }\n",
       "\n",
       "    .dataframe thead th {\n",
       "        text-align: right;\n",
       "    }\n",
       "</style>\n",
       "<table border=\"1\" class=\"dataframe\">\n",
       "  <thead>\n",
       "    <tr style=\"text-align: right;\">\n",
       "      <th></th>\n",
       "      <th>Temp1</th>\n",
       "      <th>Temp2</th>\n",
       "      <th>Temp3</th>\n",
       "      <th>Temp4</th>\n",
       "    </tr>\n",
       "  </thead>\n",
       "  <tbody>\n",
       "    <tr>\n",
       "      <th>0</th>\n",
       "      <td>0.494839</td>\n",
       "      <td>0.269686</td>\n",
       "      <td>0.579604</td>\n",
       "      <td>0.356162</td>\n",
       "    </tr>\n",
       "    <tr>\n",
       "      <th>1</th>\n",
       "      <td>0.630580</td>\n",
       "      <td>0.512945</td>\n",
       "      <td>0.556682</td>\n",
       "      <td>0.479974</td>\n",
       "    </tr>\n",
       "    <tr>\n",
       "      <th>2</th>\n",
       "      <td>0.290202</td>\n",
       "      <td>0.600554</td>\n",
       "      <td>0.569436</td>\n",
       "      <td>0.495884</td>\n",
       "    </tr>\n",
       "    <tr>\n",
       "      <th>3</th>\n",
       "      <td>0.285120</td>\n",
       "      <td>0.499025</td>\n",
       "      <td>0.502441</td>\n",
       "      <td>0.601448</td>\n",
       "    </tr>\n",
       "    <tr>\n",
       "      <th>4</th>\n",
       "      <td>0.323136</td>\n",
       "      <td>0.632033</td>\n",
       "      <td>0.311511</td>\n",
       "      <td>0.496781</td>\n",
       "    </tr>\n",
       "  </tbody>\n",
       "</table>\n",
       "</div>"
      ],
      "text/plain": [
       "      Temp1     Temp2     Temp3     Temp4\n",
       "0  0.494839  0.269686  0.579604  0.356162\n",
       "1  0.630580  0.512945  0.556682  0.479974\n",
       "2  0.290202  0.600554  0.569436  0.495884\n",
       "3  0.285120  0.499025  0.502441  0.601448\n",
       "4  0.323136  0.632033  0.311511  0.496781"
      ]
     },
     "execution_count": 5,
     "metadata": {},
     "output_type": "execute_result"
    }
   ],
   "source": [
    "from sklearn import preprocessing\n",
    "\n",
    "X=df[df.columns.difference(['target'])]\n",
    "y=df.target\n",
    "\n",
    "min_max_scaler = preprocessing.MinMaxScaler().fit(X)\n",
    "X_scaled = min_max_scaler.transform(X)\n",
    "dfmm = pd.DataFrame(X_scaled,columns=X.columns)\n",
    "dfmm.head(5)"
   ]
  },
  {
   "cell_type": "code",
   "execution_count": 6,
   "metadata": {
    "ExecuteTime": {
     "end_time": "2019-08-11T12:14:50.930425Z",
     "start_time": "2019-08-11T12:14:50.773202Z"
    }
   },
   "outputs": [
    {
     "data": {
      "text/plain": [
       "array([[-0.42844582, -0.05607216, -0.06420412, -0.38951754]])"
      ]
     },
     "execution_count": 6,
     "metadata": {},
     "output_type": "execute_result"
    }
   ],
   "source": [
    "min_max_scaler.transform(pd.DataFrame({'Temp1':[0.4],'Temp2':[0.55],'Temp3':[0.5],'Temp4':[0.4]}))"
   ]
  },
  {
   "cell_type": "code",
   "execution_count": 7,
   "metadata": {
    "ExecuteTime": {
     "end_time": "2019-08-11T12:14:51.118680Z",
     "start_time": "2019-08-11T12:14:50.941392Z"
    }
   },
   "outputs": [
    {
     "data": {
      "text/html": [
       "<div>\n",
       "<style scoped>\n",
       "    .dataframe tbody tr th:only-of-type {\n",
       "        vertical-align: middle;\n",
       "    }\n",
       "\n",
       "    .dataframe tbody tr th {\n",
       "        vertical-align: top;\n",
       "    }\n",
       "\n",
       "    .dataframe thead th {\n",
       "        text-align: right;\n",
       "    }\n",
       "</style>\n",
       "<table border=\"1\" class=\"dataframe\">\n",
       "  <thead>\n",
       "    <tr style=\"text-align: right;\">\n",
       "      <th></th>\n",
       "      <th>Temp1</th>\n",
       "      <th>Temp2</th>\n",
       "      <th>Temp3</th>\n",
       "      <th>Temp4</th>\n",
       "    </tr>\n",
       "  </thead>\n",
       "  <tbody>\n",
       "    <tr>\n",
       "      <th>0</th>\n",
       "      <td>0.395169</td>\n",
       "      <td>-1.743820</td>\n",
       "      <td>0.194925</td>\n",
       "      <td>-0.734234</td>\n",
       "    </tr>\n",
       "    <tr>\n",
       "      <th>1</th>\n",
       "      <td>1.203074</td>\n",
       "      <td>-0.137798</td>\n",
       "      <td>0.049878</td>\n",
       "      <td>-0.024859</td>\n",
       "    </tr>\n",
       "    <tr>\n",
       "      <th>2</th>\n",
       "      <td>-0.822795</td>\n",
       "      <td>0.440602</td>\n",
       "      <td>0.130583</td>\n",
       "      <td>0.066294</td>\n",
       "    </tr>\n",
       "    <tr>\n",
       "      <th>3</th>\n",
       "      <td>-0.853043</td>\n",
       "      <td>-0.229703</td>\n",
       "      <td>-0.293334</td>\n",
       "      <td>0.671117</td>\n",
       "    </tr>\n",
       "    <tr>\n",
       "      <th>4</th>\n",
       "      <td>-0.626777</td>\n",
       "      <td>0.648427</td>\n",
       "      <td>-1.501469</td>\n",
       "      <td>0.071431</td>\n",
       "    </tr>\n",
       "  </tbody>\n",
       "</table>\n",
       "</div>"
      ],
      "text/plain": [
       "      Temp1     Temp2     Temp3     Temp4\n",
       "0  0.395169 -1.743820  0.194925 -0.734234\n",
       "1  1.203074 -0.137798  0.049878 -0.024859\n",
       "2 -0.822795  0.440602  0.130583  0.066294\n",
       "3 -0.853043 -0.229703 -0.293334  0.671117\n",
       "4 -0.626777  0.648427 -1.501469  0.071431"
      ]
     },
     "execution_count": 7,
     "metadata": {},
     "output_type": "execute_result"
    }
   ],
   "source": [
    "from sklearn.preprocessing import StandardScaler\n",
    "\n",
    "X=df[df.columns.difference(['target'])]\n",
    "y=df.target\n",
    "\n",
    "scaler = StandardScaler().fit(X)\n",
    "X_scaled = scaler.transform(X)\n",
    "dfs = pd.DataFrame(X_scaled,columns=X.columns)\n",
    "dfs.head(5)"
   ]
  },
  {
   "cell_type": "code",
   "execution_count": 8,
   "metadata": {
    "ExecuteTime": {
     "end_time": "2019-08-11T12:14:51.236589Z",
     "start_time": "2019-08-11T12:14:51.126668Z"
    }
   },
   "outputs": [
    {
     "data": {
      "text/plain": [
       "array([[-5.10006072, -3.89450257, -3.87885466, -5.00654861]])"
      ]
     },
     "execution_count": 8,
     "metadata": {},
     "output_type": "execute_result"
    }
   ],
   "source": [
    "scaler.transform(pd.DataFrame({'Temp1':[0.4],'Temp2':[0.55],'Temp3':[0.5],'Temp4':[0.4]}))"
   ]
  },
  {
   "cell_type": "code",
   "execution_count": null,
   "metadata": {},
   "outputs": [],
   "source": []
  },
  {
   "cell_type": "code",
   "execution_count": null,
   "metadata": {},
   "outputs": [],
   "source": []
  },
  {
   "cell_type": "code",
   "execution_count": 9,
   "metadata": {
    "ExecuteTime": {
     "end_time": "2019-08-11T12:14:51.473411Z",
     "start_time": "2019-08-11T12:14:51.240602Z"
    }
   },
   "outputs": [],
   "source": [
    "#Treino/Teste\n",
    "X=df[['Temp1','Temp2','Temp3','Temp4']]\n",
    "Y=df.target\n",
    "X_train, X_test, Y_train, Y_test = train_test_split(X, Y, random_state=42)"
   ]
  },
  {
   "cell_type": "code",
   "execution_count": 10,
   "metadata": {
    "ExecuteTime": {
     "end_time": "2019-08-11T12:14:52.115288Z",
     "start_time": "2019-08-11T12:14:51.481379Z"
    }
   },
   "outputs": [],
   "source": [
    "#Modelo: Árvore\n",
    "parameters={'min_samples_split' : [20,50],'max_depth': [3,5,7]}\n",
    "clf_tree=DecisionTreeClassifier()\n",
    "clf_tree=GridSearchCV(clf_tree,parameters,cv=5,scoring = 'f1')\n",
    "model_tree=clf_tree.fit(X_train,Y_train)"
   ]
  },
  {
   "cell_type": "code",
   "execution_count": 11,
   "metadata": {
    "ExecuteTime": {
     "end_time": "2019-08-11T12:14:52.129278Z",
     "start_time": "2019-08-11T12:14:52.119284Z"
    }
   },
   "outputs": [
    {
     "name": "stdout",
     "output_type": "stream",
     "text": [
      "{'max_depth': 3, 'min_samples_split': 20}\n",
      "[0.88759406 0.88759406 0.88656131 0.8860016  0.87901615 0.87831065]\n"
     ]
    }
   ],
   "source": [
    "#Resultados do tunning\n",
    "print(model_tree.best_params_)\n",
    "print(model_tree.cv_results_['mean_test_score'])"
   ]
  },
  {
   "cell_type": "code",
   "execution_count": 12,
   "metadata": {
    "ExecuteTime": {
     "end_time": "2019-08-11T12:14:53.179951Z",
     "start_time": "2019-08-11T12:14:52.133275Z"
    }
   },
   "outputs": [
    {
     "data": {
      "text/plain": [
       "[Text(422,481.775,'Temp4 <= 35.405\\nentropy = 0.5\\nsamples = 3906\\nvalue = [1946, 1960]\\nclass = 1'),\n",
       " Text(211,344.125,'Temp4 <= 32.524\\nentropy = 0.294\\nsamples = 2171\\nvalue = [1782, 389]\\nclass = 0'),\n",
       " Text(105.5,206.475,'Temp2 <= 34.405\\nentropy = 0.179\\nsamples = 1603\\nvalue = [1444, 159]\\nclass = 0'),\n",
       " Text(52.75,68.825,'entropy = 0.08\\nsamples = 1058\\nvalue = [1014, 44]\\nclass = 0'),\n",
       " Text(158.25,68.825,'entropy = 0.333\\nsamples = 545\\nvalue = [430, 115]\\nclass = 0'),\n",
       " Text(316.5,206.475,'Temp2 <= 35.659\\nentropy = 0.482\\nsamples = 568\\nvalue = [338, 230]\\nclass = 0'),\n",
       " Text(263.75,68.825,'entropy = 0.339\\nsamples = 347\\nvalue = [272, 75]\\nclass = 0'),\n",
       " Text(369.25,68.825,'entropy = 0.419\\nsamples = 221\\nvalue = [66, 155]\\nclass = 1'),\n",
       " Text(633,344.125,'Temp2 <= 28.496\\nentropy = 0.171\\nsamples = 1735\\nvalue = [164, 1571]\\nclass = 1'),\n",
       " Text(527.5,206.475,'Temp2 <= 23.933\\nentropy = 0.424\\nsamples = 128\\nvalue = [89, 39]\\nclass = 0'),\n",
       " Text(474.75,68.825,'entropy = 0.074\\nsamples = 52\\nvalue = [50, 2]\\nclass = 0'),\n",
       " Text(580.25,68.825,'entropy = 0.5\\nsamples = 76\\nvalue = [39, 37]\\nclass = 0'),\n",
       " Text(738.5,206.475,'Temp4 <= 37.163\\nentropy = 0.089\\nsamples = 1607\\nvalue = [75, 1532]\\nclass = 1'),\n",
       " Text(685.75,68.825,'entropy = 0.334\\nsamples = 245\\nvalue = [52, 193]\\nclass = 1'),\n",
       " Text(791.25,68.825,'entropy = 0.033\\nsamples = 1362\\nvalue = [23, 1339]\\nclass = 1')]"
      ]
     },
     "execution_count": 12,
     "metadata": {},
     "output_type": "execute_result"
    },
    {
     "data": {
      "image/png": "[encoded data removed]",
      "text/plain": [
       "<Figure size 1080x720 with 1 Axes>"
      ]
     },
     "metadata": {},
     "output_type": "display_data"
    }
   ],
   "source": [
    "#Para dados da árvore (Não funciona para o GridSearchCV)\n",
    "import matplotlib.pyplot\n",
    "fig = matplotlib.pyplot.gcf()\n",
    "fig.set_size_inches(15, 10)\n",
    "\n",
    "from sklearn import tree\n",
    "clf_tree=DecisionTreeClassifier(max_depth=3,min_samples_split=20,random_state=123)\n",
    "model_tree=clf_tree.fit(X_train,Y_train)\n",
    "tree.plot_tree(model_tree,feature_names=X_train.columns,class_names=['0','1'])\n",
    "#fig.savefig('tree.png')"
   ]
  },
  {
   "cell_type": "code",
   "execution_count": 13,
   "metadata": {
    "ExecuteTime": {
     "end_time": "2019-08-11T12:14:53.191943Z",
     "start_time": "2019-08-11T12:14:53.184947Z"
    }
   },
   "outputs": [],
   "source": [
    "#Previsões\n",
    "#model_tree.predict_proba(X_test)[:,1]#probabilidade de o target ser 1\n",
    "pred=model_tree.predict(X_test)"
   ]
  },
  {
   "cell_type": "code",
   "execution_count": 14,
   "metadata": {
    "ExecuteTime": {
     "end_time": "2019-08-11T12:14:53.313851Z",
     "start_time": "2019-08-11T12:14:53.195941Z"
    }
   },
   "outputs": [
    {
     "name": "stdout",
     "output_type": "stream",
     "text": [
      "Accuracy: 0.8956254796623178\n",
      "F1 score: 0.8977443609022557\n",
      "Recall: 0.8831360946745562\n",
      "Precision: 0.9128440366972477\n",
      "\n",
      " clasification report:\n",
      "               precision    recall  f1-score   support\n",
      "\n",
      "           0       0.88      0.91      0.89       627\n",
      "           1       0.91      0.88      0.90       676\n",
      "\n",
      "    accuracy                           0.90      1303\n",
      "   macro avg       0.90      0.90      0.90      1303\n",
      "weighted avg       0.90      0.90      0.90      1303\n",
      "\n"
     ]
    }
   ],
   "source": [
    "#Métricas de avaliação\n",
    "print('Accuracy:', accuracy_score(Y_test, pred))\n",
    "print('F1 score:', f1_score(Y_test, pred))\n",
    "print('Recall:',recall_score(Y_test, pred))\n",
    "print('Precision:',precision_score(Y_test, pred))\n",
    "print('\\n clasification report:\\n',classification_report(Y_test, pred))\n",
    "\n",
    "#print(pd.crosstab(pd.Series(Y_test).reset_index(drop=True),pd.Series(pred)))"
   ]
  },
  {
   "cell_type": "code",
   "execution_count": null,
   "metadata": {},
   "outputs": [],
   "source": []
  },
  {
   "cell_type": "code",
   "execution_count": null,
   "metadata": {},
   "outputs": [],
   "source": []
  },
  {
   "cell_type": "code",
   "execution_count": 15,
   "metadata": {
    "ExecuteTime": {
     "end_time": "2019-08-11T12:14:53.582217Z",
     "start_time": "2019-08-11T12:14:53.316848Z"
    }
   },
   "outputs": [],
   "source": [
    "#Modelo: Regressão Logistica\n",
    "clf_lg = LogisticRegression(solver='liblinear')\n",
    "model_lg=clf_lg.fit(X_train,Y_train)\n",
    "pred = model_lg.predict(X_test)"
   ]
  },
  {
   "cell_type": "code",
   "execution_count": 16,
   "metadata": {
    "ExecuteTime": {
     "end_time": "2019-08-11T12:14:53.722149Z",
     "start_time": "2019-08-11T12:14:53.591206Z"
    }
   },
   "outputs": [
    {
     "name": "stdout",
     "output_type": "stream",
     "text": [
      "[0.86842105 0.89884763 0.89258312 0.88639201 0.9003881 ]\n"
     ]
    }
   ],
   "source": [
    "#Cross Validation\n",
    "metrics = cross_val_score(estimator=model_lg, X=X_train, y=Y_train, cv=5, scoring='f1')\n",
    "print(metrics)"
   ]
  },
  {
   "cell_type": "code",
   "execution_count": 17,
   "metadata": {
    "ExecuteTime": {
     "end_time": "2019-08-11T12:14:53.743117Z",
     "start_time": "2019-08-11T12:14:53.725128Z"
    }
   },
   "outputs": [
    {
     "data": {
      "text/html": [
       "<div>\n",
       "<style scoped>\n",
       "    .dataframe tbody tr th:only-of-type {\n",
       "        vertical-align: middle;\n",
       "    }\n",
       "\n",
       "    .dataframe tbody tr th {\n",
       "        vertical-align: top;\n",
       "    }\n",
       "\n",
       "    .dataframe thead th {\n",
       "        text-align: right;\n",
       "    }\n",
       "</style>\n",
       "<table border=\"1\" class=\"dataframe\">\n",
       "  <thead>\n",
       "    <tr style=\"text-align: right;\">\n",
       "      <th></th>\n",
       "      <th>coef</th>\n",
       "      <th>or</th>\n",
       "    </tr>\n",
       "  </thead>\n",
       "  <tbody>\n",
       "    <tr>\n",
       "      <th>Temp4</th>\n",
       "      <td>0.339507</td>\n",
       "      <td>0.115265</td>\n",
       "    </tr>\n",
       "    <tr>\n",
       "      <th>Temp2</th>\n",
       "      <td>0.132733</td>\n",
       "      <td>0.017618</td>\n",
       "    </tr>\n",
       "    <tr>\n",
       "      <th>Temp1</th>\n",
       "      <td>-0.008140</td>\n",
       "      <td>0.000066</td>\n",
       "    </tr>\n",
       "    <tr>\n",
       "      <th>Temp3</th>\n",
       "      <td>-0.016944</td>\n",
       "      <td>0.000287</td>\n",
       "    </tr>\n",
       "  </tbody>\n",
       "</table>\n",
       "</div>"
      ],
      "text/plain": [
       "           coef        or\n",
       "Temp4  0.339507  0.115265\n",
       "Temp2  0.132733  0.017618\n",
       "Temp1 -0.008140  0.000066\n",
       "Temp3 -0.016944  0.000287"
      ]
     },
     "execution_count": 17,
     "metadata": {},
     "output_type": "execute_result"
    }
   ],
   "source": [
    "#Coeficientes\n",
    "important_features = pd.DataFrame({'coef':model_lg.coef_[0],'or':model_lg.coef_[0]**2},index=X_train.columns)\n",
    "important_features.sort_values(by=['coef'],ascending=False,inplace=True)\n",
    "important_features"
   ]
  },
  {
   "cell_type": "code",
   "execution_count": 18,
   "metadata": {
    "ExecuteTime": {
     "end_time": "2019-08-11T12:14:53.856126Z",
     "start_time": "2019-08-11T12:14:53.747115Z"
    }
   },
   "outputs": [
    {
     "name": "stdout",
     "output_type": "stream",
     "text": [
      "Accuracy: 0.8994627782041443\n",
      "F1 score: 0.9026022304832713\n",
      "Recall: 0.8979289940828402\n",
      "Precision: 0.9073243647234679\n",
      "\n",
      " clasification report:\n",
      "               precision    recall  f1-score   support\n",
      "\n",
      "           0       0.89      0.90      0.90       627\n",
      "           1       0.91      0.90      0.90       676\n",
      "\n",
      "    accuracy                           0.90      1303\n",
      "   macro avg       0.90      0.90      0.90      1303\n",
      "weighted avg       0.90      0.90      0.90      1303\n",
      "\n"
     ]
    }
   ],
   "source": [
    "#métricas de Avaliação\n",
    "print('Accuracy:', accuracy_score(Y_test, pred))\n",
    "print('F1 score:', f1_score(Y_test, pred))\n",
    "print('Recall:',recall_score(Y_test, pred))\n",
    "print('Precision:',precision_score(Y_test, pred))\n",
    "print('\\n clasification report:\\n',classification_report(Y_test, pred))\n",
    "\n",
    "#print(pd.crosstab(pd.Series(Y_test).reset_index(drop=True),pd.Series(pred)))"
   ]
  },
  {
   "cell_type": "code",
   "execution_count": null,
   "metadata": {},
   "outputs": [],
   "source": []
  },
  {
   "cell_type": "code",
   "execution_count": null,
   "metadata": {},
   "outputs": [],
   "source": []
  },
  {
   "cell_type": "code",
   "execution_count": 19,
   "metadata": {
    "ExecuteTime": {
     "end_time": "2019-08-11T12:14:54.029310Z",
     "start_time": "2019-08-11T12:14:53.859123Z"
    }
   },
   "outputs": [],
   "source": [
    "#Modelo: Naive Bayes\n",
    "clf_naive = GaussianNB()\n",
    "model_naive=clf_naive.fit(X_train, Y_train)\n",
    "pred = model_naive.predict(X_test)"
   ]
  },
  {
   "cell_type": "code",
   "execution_count": 20,
   "metadata": {
    "ExecuteTime": {
     "end_time": "2019-08-11T12:14:54.309249Z",
     "start_time": "2019-08-11T12:14:54.039218Z"
    }
   },
   "outputs": [
    {
     "name": "stdout",
     "output_type": "stream",
     "text": [
      "[0.86675639 0.89206762 0.89908257 0.89171975 0.89790576]\n"
     ]
    }
   ],
   "source": [
    "#Cross Validation\n",
    "metrics = cross_val_score(estimator=model_naive, X=X_train, y=Y_train, cv=5, scoring='f1')\n",
    "print(metrics)"
   ]
  },
  {
   "cell_type": "code",
   "execution_count": 21,
   "metadata": {
    "ExecuteTime": {
     "end_time": "2019-08-11T12:14:54.378208Z",
     "start_time": "2019-08-11T12:14:54.319239Z"
    }
   },
   "outputs": [
    {
     "name": "stdout",
     "output_type": "stream",
     "text": [
      "Accuracy: 0.9009976976208749\n",
      "F1 score: 0.9027882441597588\n",
      "Recall: 0.886094674556213\n",
      "Precision: 0.9201228878648233\n",
      "\n",
      " clasification report:\n",
      "               precision    recall  f1-score   support\n",
      "\n",
      "           0       0.88      0.92      0.90       627\n",
      "           1       0.92      0.89      0.90       676\n",
      "\n",
      "    accuracy                           0.90      1303\n",
      "   macro avg       0.90      0.90      0.90      1303\n",
      "weighted avg       0.90      0.90      0.90      1303\n",
      "\n"
     ]
    }
   ],
   "source": [
    "#métricas de Avaliação\n",
    "print('Accuracy:', accuracy_score(Y_test, pred))\n",
    "print('F1 score:', f1_score(Y_test, pred))\n",
    "print('Recall:',recall_score(Y_test, pred))\n",
    "print('Precision:',precision_score(Y_test, pred))\n",
    "print('\\n clasification report:\\n',classification_report(Y_test, pred))\n",
    "\n",
    "#print(pd.crosstab(pd.Series(Y_test).reset_index(drop=True),pd.Series(pred)))"
   ]
  },
  {
   "cell_type": "code",
   "execution_count": null,
   "metadata": {},
   "outputs": [],
   "source": []
  },
  {
   "cell_type": "code",
   "execution_count": null,
   "metadata": {},
   "outputs": [],
   "source": []
  },
  {
   "cell_type": "code",
   "execution_count": 22,
   "metadata": {
    "ExecuteTime": {
     "end_time": "2019-08-11T12:15:06.389396Z",
     "start_time": "2019-08-11T12:14:54.386197Z"
    }
   },
   "outputs": [],
   "source": [
    "#Modelo: RandomForest\n",
    "parameters={'min_samples_split' : [20,50],'max_depth': [3,5,7],'n_estimators':[10,25,50]}\n",
    "clf_rf=RandomForestClassifier(random_state=123)\n",
    "clf_rf=GridSearchCV(clf_rf,parameters,cv=5,scoring = 'f1')\n",
    "model_rf=clf_rf.fit(X_train,Y_train)"
   ]
  },
  {
   "cell_type": "code",
   "execution_count": 23,
   "metadata": {
    "ExecuteTime": {
     "end_time": "2019-08-11T12:15:06.401413Z",
     "start_time": "2019-08-11T12:15:06.391398Z"
    }
   },
   "outputs": [
    {
     "name": "stdout",
     "output_type": "stream",
     "text": [
      "{'max_depth': 7, 'min_samples_split': 20, 'n_estimators': 25}\n",
      "[0.86978221 0.88055775 0.88575767 0.8684735  0.88038086 0.88631839\n",
      " 0.88633228 0.88661217 0.88786917 0.88708349 0.88777545 0.88946659\n",
      " 0.88870807 0.89028719 0.88989216 0.88479389 0.88606812 0.88951005]\n"
     ]
    }
   ],
   "source": [
    "#Resultados do tunning\n",
    "print(model_rf.best_params_)\n",
    "print(model_rf.cv_results_['mean_test_score'])"
   ]
  },
  {
   "cell_type": "code",
   "execution_count": 24,
   "metadata": {
    "ExecuteTime": {
     "end_time": "2019-08-11T12:15:06.661487Z",
     "start_time": "2019-08-11T12:15:06.405391Z"
    }
   },
   "outputs": [
    {
     "data": {
      "text/plain": [
       "Temp4    0.707209\n",
       "Temp2    0.253752\n",
       "Temp1    0.020641\n",
       "Temp3    0.018398\n",
       "dtype: float64"
      ]
     },
     "execution_count": 24,
     "metadata": {},
     "output_type": "execute_result"
    }
   ],
   "source": [
    "#Feature importance\n",
    "important_features = pd.Series(data=model_rf.best_estimator_.feature_importances_,index=X_train.columns)\n",
    "important_features.sort_values(ascending=False,inplace=True)\n",
    "important_features"
   ]
  },
  {
   "cell_type": "code",
   "execution_count": 25,
   "metadata": {
    "ExecuteTime": {
     "end_time": "2019-08-11T12:15:06.887676Z",
     "start_time": "2019-08-11T12:15:06.668481Z"
    }
   },
   "outputs": [],
   "source": [
    "#Previsões\n",
    "#model_tree.predict_proba(X_test)[:,1]#probabilidade de o target ser 1\n",
    "pred=model_rf.predict(X_test)"
   ]
  },
  {
   "cell_type": "code",
   "execution_count": 26,
   "metadata": {
    "ExecuteTime": {
     "end_time": "2019-08-11T12:15:07.120028Z",
     "start_time": "2019-08-11T12:15:06.898636Z"
    }
   },
   "outputs": [
    {
     "name": "stdout",
     "output_type": "stream",
     "text": [
      "Accuracy: 0.9040675364543361\n",
      "F1 score: 0.9053747161241483\n",
      "Recall: 0.8846153846153846\n",
      "Precision: 0.9271317829457364\n",
      "\n",
      " clasification report:\n",
      "               precision    recall  f1-score   support\n",
      "\n",
      "           0       0.88      0.93      0.90       627\n",
      "           1       0.93      0.88      0.91       676\n",
      "\n",
      "    accuracy                           0.90      1303\n",
      "   macro avg       0.90      0.90      0.90      1303\n",
      "weighted avg       0.91      0.90      0.90      1303\n",
      "\n"
     ]
    }
   ],
   "source": [
    "#métricas de Avaliação\n",
    "print('Accuracy:', accuracy_score(Y_test, pred))\n",
    "print('F1 score:', f1_score(Y_test, pred))\n",
    "print('Recall:',recall_score(Y_test, pred))\n",
    "print('Precision:',precision_score(Y_test, pred))\n",
    "print('\\n clasification report:\\n',classification_report(Y_test, pred))\n",
    "\n",
    "#print(pd.crosstab(pd.Series(Y_test).reset_index(drop=True),pd.Series(pred)))"
   ]
  },
  {
   "cell_type": "code",
   "execution_count": 27,
   "metadata": {
    "ExecuteTime": {
     "end_time": "2019-08-11T12:15:08.146429Z",
     "start_time": "2019-08-11T12:15:07.129994Z"
    }
   },
   "outputs": [
    {
     "name": "stdout",
     "output_type": "stream",
     "text": [
      "[0.86838535 0.89790576 0.89709763 0.88860435 0.8994709 ]\n",
      "Accuracy: 0.9040675364543361\n",
      "F1 score: 0.9053747161241483\n",
      "Recall: 0.8846153846153846\n",
      "Precision: 0.9271317829457364\n",
      "\n",
      " clasification report:\n",
      "               precision    recall  f1-score   support\n",
      "\n",
      "           0       0.88      0.93      0.90       627\n",
      "           1       0.93      0.88      0.91       676\n",
      "\n",
      "    accuracy                           0.90      1303\n",
      "   macro avg       0.90      0.90      0.90      1303\n",
      "weighted avg       0.91      0.90      0.90      1303\n",
      "\n"
     ]
    }
   ],
   "source": [
    "#Alternativamente, sem o tuning de hiperparâmetros\n",
    "clf_rf=RandomForestClassifier(max_depth=7,min_samples_split=20,n_estimators=25,random_state=123)\n",
    "model_rf=clf_rf.fit(X_train,Y_train)\n",
    "pred = model_rf.predict(X_test)\n",
    "\n",
    "#Cross Validation\n",
    "metrics = cross_val_score(estimator=model_rf, X=X_train, y=Y_train, cv=5, scoring='f1')\n",
    "print(metrics)\n",
    "\n",
    "#Previsões\n",
    "pred=model_rf.predict(X_test)\n",
    "print('Accuracy:', accuracy_score(Y_test, pred))\n",
    "print('F1 score:', f1_score(Y_test, pred))\n",
    "print('Recall:',recall_score(Y_test, pred))\n",
    "print('Precision:',precision_score(Y_test, pred))\n",
    "print('\\n clasification report:\\n',classification_report(Y_test, pred))"
   ]
  },
  {
   "cell_type": "code",
   "execution_count": null,
   "metadata": {},
   "outputs": [],
   "source": []
  },
  {
   "cell_type": "code",
   "execution_count": null,
   "metadata": {},
   "outputs": [],
   "source": []
  },
  {
   "cell_type": "code",
   "execution_count": 28,
   "metadata": {
    "ExecuteTime": {
     "end_time": "2019-08-11T12:15:08.155406Z",
     "start_time": "2019-08-11T12:15:08.150413Z"
    }
   },
   "outputs": [],
   "source": [
    "#Modelo: SVM\n",
    "#parameters={'C' : [0.1,1,10],'gamma':[0.1,1,10],'kernel':['linear','poly']}\n",
    "#clf_svm=svm.SVC(random_state=123)\n",
    "#clf_svm=GridSearchCV(clf_svm,parameters,cv=5,scoring = 'f1')\n",
    "#model_svm=clf_svm.fit(X_train,Y_train)"
   ]
  },
  {
   "cell_type": "code",
   "execution_count": 29,
   "metadata": {
    "ExecuteTime": {
     "end_time": "2019-08-11T12:15:08.409902Z",
     "start_time": "2019-08-11T12:15:08.159402Z"
    }
   },
   "outputs": [],
   "source": [
    "#Resultados do tunning\n",
    "#print(model_svm.best_params_)\n",
    "#print(model_svm.cv_results_['mean_test_score'])"
   ]
  },
  {
   "cell_type": "code",
   "execution_count": 30,
   "metadata": {
    "ExecuteTime": {
     "end_time": "2019-08-11T12:15:08.552828Z",
     "start_time": "2019-08-11T12:15:08.420899Z"
    }
   },
   "outputs": [],
   "source": [
    "#Previsões\n",
    "#model_tree.predict_proba(X_test)[:,1]#probabilidade de o target ser 1\n",
    "#pred=model_svm.predict(X_test)"
   ]
  },
  {
   "cell_type": "code",
   "execution_count": 31,
   "metadata": {
    "ExecuteTime": {
     "end_time": "2019-08-11T12:15:08.707801Z",
     "start_time": "2019-08-11T12:15:08.563819Z"
    }
   },
   "outputs": [],
   "source": [
    "#métricas de Avaliação\n",
    "#print('Accuracy:', accuracy_score(Y_test, pred))\n",
    "#print('F1 score:', f1_score(Y_test, pred))\n",
    "#print('Recall:',recall_score(Y_test, pred))\n",
    "#print('Precision:',precision_score(Y_test, pred))\n",
    "#print('\\n clasification report:\\n',classification_report(Y_test, pred))\n",
    "\n",
    "#print(pd.crosstab(pd.Series(Y_test).reset_index(drop=True),pd.Series(pred)))"
   ]
  },
  {
   "cell_type": "code",
   "execution_count": null,
   "metadata": {},
   "outputs": [],
   "source": []
  },
  {
   "cell_type": "code",
   "execution_count": null,
   "metadata": {},
   "outputs": [],
   "source": []
  },
  {
   "cell_type": "code",
   "execution_count": 32,
   "metadata": {
    "ExecuteTime": {
     "end_time": "2019-08-11T12:15:10.782694Z",
     "start_time": "2019-08-11T12:15:08.718794Z"
    }
   },
   "outputs": [],
   "source": [
    "#Modelo: KNN\n",
    "parameters={'n_neighbors' : [2,3,5,10,20,50]}\n",
    "clf_knn = KNeighborsClassifier()\n",
    "clf_knn=GridSearchCV(clf_knn,parameters,cv=5,scoring = 'f1')\n",
    "model_knn=clf_knn.fit(X_train,Y_train)"
   ]
  },
  {
   "cell_type": "code",
   "execution_count": 33,
   "metadata": {
    "ExecuteTime": {
     "end_time": "2019-08-11T12:15:10.792653Z",
     "start_time": "2019-08-11T12:15:10.785656Z"
    }
   },
   "outputs": [
    {
     "name": "stdout",
     "output_type": "stream",
     "text": [
      "{'n_neighbors': 50}\n",
      "[0.84507248 0.86669368 0.87470799 0.8804524  0.88562615 0.88770688]\n"
     ]
    }
   ],
   "source": [
    "#Resultados do tunning\n",
    "print(model_knn.best_params_)\n",
    "print(model_knn.cv_results_['mean_test_score'])"
   ]
  },
  {
   "cell_type": "code",
   "execution_count": 34,
   "metadata": {
    "ExecuteTime": {
     "end_time": "2019-08-11T12:15:11.240539Z",
     "start_time": "2019-08-11T12:15:10.795653Z"
    }
   },
   "outputs": [],
   "source": [
    "#Previsões\n",
    "#model_tree.predict_proba(X_test)[:,1]#probabilidade de o target ser 1\n",
    "pred=model_knn.predict(X_test)"
   ]
  },
  {
   "cell_type": "code",
   "execution_count": 35,
   "metadata": {
    "ExecuteTime": {
     "end_time": "2019-08-11T12:15:11.373708Z",
     "start_time": "2019-08-11T12:15:11.243462Z"
    }
   },
   "outputs": [
    {
     "name": "stdout",
     "output_type": "stream",
     "text": [
      "Accuracy: 0.8948580199539524\n",
      "F1 score: 0.8967596081386587\n",
      "Recall: 0.8801775147928994\n",
      "Precision: 0.9139784946236559\n",
      "\n",
      " clasification report:\n",
      "               precision    recall  f1-score   support\n",
      "\n",
      "           0       0.88      0.91      0.89       627\n",
      "           1       0.91      0.88      0.90       676\n",
      "\n",
      "    accuracy                           0.89      1303\n",
      "   macro avg       0.89      0.90      0.89      1303\n",
      "weighted avg       0.90      0.89      0.89      1303\n",
      "\n"
     ]
    }
   ],
   "source": [
    "#métricas de Avaliação\n",
    "print('Accuracy:', accuracy_score(Y_test, pred))\n",
    "print('F1 score:', f1_score(Y_test, pred))\n",
    "print('Recall:',recall_score(Y_test, pred))\n",
    "print('Precision:',precision_score(Y_test, pred))\n",
    "print('\\n clasification report:\\n',classification_report(Y_test, pred))\n",
    "\n",
    "#print(pd.crosstab(pd.Series(Y_test).reset_index(drop=True),pd.Series(pred)))"
   ]
  },
  {
   "cell_type": "code",
   "execution_count": null,
   "metadata": {},
   "outputs": [],
   "source": []
  },
  {
   "cell_type": "code",
   "execution_count": null,
   "metadata": {},
   "outputs": [],
   "source": []
  },
  {
   "cell_type": "code",
   "execution_count": 36,
   "metadata": {
    "ExecuteTime": {
     "end_time": "2019-08-11T12:15:24.113687Z",
     "start_time": "2019-08-11T12:15:11.380686Z"
    }
   },
   "outputs": [],
   "source": [
    "#Modelo: Gradiente Boosting\n",
    "parameters={'min_samples_split' : [20,50],'max_depth': [3,5,7],'n_estimators':[10,25,50]}\n",
    "clf_gb=GradientBoostingClassifier(random_state=123)\n",
    "clf_gb=GridSearchCV(clf_gb,parameters,cv=5,scoring = 'f1')\n",
    "model_gb=clf_gb.fit(X_train,Y_train)"
   ]
  },
  {
   "cell_type": "code",
   "execution_count": 37,
   "metadata": {
    "ExecuteTime": {
     "end_time": "2019-08-11T12:15:24.123643Z",
     "start_time": "2019-08-11T12:15:24.116647Z"
    }
   },
   "outputs": [
    {
     "name": "stdout",
     "output_type": "stream",
     "text": [
      "{'max_depth': 3, 'min_samples_split': 20, 'n_estimators': 50}\n",
      "[0.88894913 0.89058002 0.89199593 0.88871454 0.89067931 0.89148941\n",
      " 0.88766263 0.88807265 0.88687446 0.88726089 0.88840025 0.8870994\n",
      " 0.87984716 0.88370514 0.88398094 0.87934972 0.88509561 0.88550443]\n"
     ]
    }
   ],
   "source": [
    "#Resultados do tunning\n",
    "print(model_gb.best_params_)\n",
    "print(model_gb.cv_results_['mean_test_score'])"
   ]
  },
  {
   "cell_type": "code",
   "execution_count": 38,
   "metadata": {
    "ExecuteTime": {
     "end_time": "2019-08-11T12:15:24.521102Z",
     "start_time": "2019-08-11T12:15:24.128642Z"
    }
   },
   "outputs": [
    {
     "data": {
      "text/plain": [
       "Temp4    0.821342\n",
       "Temp2    0.173071\n",
       "Temp1    0.003123\n",
       "Temp3    0.002463\n",
       "dtype: float64"
      ]
     },
     "execution_count": 38,
     "metadata": {},
     "output_type": "execute_result"
    }
   ],
   "source": [
    "#Feature importance\n",
    "important_features = pd.Series(data=model_gb.best_estimator_.feature_importances_,index=X_train.columns)\n",
    "important_features.sort_values(ascending=False,inplace=True)\n",
    "important_features"
   ]
  },
  {
   "cell_type": "code",
   "execution_count": 39,
   "metadata": {
    "ExecuteTime": {
     "end_time": "2019-08-11T12:15:24.681030Z",
     "start_time": "2019-08-11T12:15:24.531087Z"
    }
   },
   "outputs": [],
   "source": [
    "#Previsões\n",
    "#model_tree.predict_proba(X_test)[:,1]#probabilidade de o target ser 1\n",
    "pred=model_gb.predict(X_test)"
   ]
  },
  {
   "cell_type": "code",
   "execution_count": 40,
   "metadata": {
    "ExecuteTime": {
     "end_time": "2019-08-11T12:15:24.891291Z",
     "start_time": "2019-08-11T12:15:24.689003Z"
    }
   },
   "outputs": [
    {
     "name": "stdout",
     "output_type": "stream",
     "text": [
      "Accuracy: 0.9040675364543361\n",
      "F1 score: 0.9065071054599849\n",
      "Recall: 0.8964497041420119\n",
      "Precision: 0.9167927382753404\n",
      "\n",
      " clasification report:\n",
      "               precision    recall  f1-score   support\n",
      "\n",
      "           0       0.89      0.91      0.90       627\n",
      "           1       0.92      0.90      0.91       676\n",
      "\n",
      "    accuracy                           0.90      1303\n",
      "   macro avg       0.90      0.90      0.90      1303\n",
      "weighted avg       0.90      0.90      0.90      1303\n",
      "\n"
     ]
    }
   ],
   "source": [
    "#métricas de Avaliação\n",
    "print('Accuracy:', accuracy_score(Y_test, pred))\n",
    "print('F1 score:', f1_score(Y_test, pred))\n",
    "print('Recall:',recall_score(Y_test, pred))\n",
    "print('Precision:',precision_score(Y_test, pred))\n",
    "print('\\n clasification report:\\n',classification_report(Y_test, pred))\n",
    "\n",
    "#print(pd.crosstab(pd.Series(Y_test).reset_index(drop=True),pd.Series(pred)))"
   ]
  },
  {
   "cell_type": "code",
   "execution_count": null,
   "metadata": {},
   "outputs": [],
   "source": []
  },
  {
   "cell_type": "code",
   "execution_count": null,
   "metadata": {},
   "outputs": [],
   "source": []
  },
  {
   "cell_type": "code",
   "execution_count": 41,
   "metadata": {
    "ExecuteTime": {
     "end_time": "2019-08-11T12:15:25.913422Z",
     "start_time": "2019-08-11T12:15:24.903280Z"
    }
   },
   "outputs": [],
   "source": [
    "#Modelo: Análise de Discriminante Linear\n",
    "clf_lda = LinearDiscriminantAnalysis()\n",
    "model_lda=clf_lda.fit(X_train, Y_train)\n",
    "pred = model_lda.predict(X_test)"
   ]
  },
  {
   "cell_type": "code",
   "execution_count": 42,
   "metadata": {
    "ExecuteTime": {
     "end_time": "2019-08-11T12:15:26.051318Z",
     "start_time": "2019-08-11T12:15:25.922373Z"
    }
   },
   "outputs": [
    {
     "name": "stdout",
     "output_type": "stream",
     "text": [
      "[0.86062246 0.88627451 0.8976378  0.89144317 0.89153439]\n"
     ]
    }
   ],
   "source": [
    "#Cross Validation\n",
    "metrics = cross_val_score(estimator=model_lda, X=X_train, y=Y_train, cv=5, scoring='f1')\n",
    "print(metrics)"
   ]
  },
  {
   "cell_type": "code",
   "execution_count": 43,
   "metadata": {
    "ExecuteTime": {
     "end_time": "2019-08-11T12:15:26.187243Z",
     "start_time": "2019-08-11T12:15:26.056298Z"
    }
   },
   "outputs": [
    {
     "name": "stdout",
     "output_type": "stream",
     "text": [
      "Accuracy: 0.8925556408288565\n",
      "F1 score: 0.8937784522003034\n",
      "Recall: 0.871301775147929\n",
      "Precision: 0.9174454828660437\n",
      "\n",
      " clasification report:\n",
      "               precision    recall  f1-score   support\n",
      "\n",
      "           0       0.87      0.92      0.89       627\n",
      "           1       0.92      0.87      0.89       676\n",
      "\n",
      "    accuracy                           0.89      1303\n",
      "   macro avg       0.89      0.89      0.89      1303\n",
      "weighted avg       0.89      0.89      0.89      1303\n",
      "\n"
     ]
    }
   ],
   "source": [
    "#métricas de Avaliação\n",
    "print('Accuracy:', accuracy_score(Y_test, pred))\n",
    "print('F1 score:', f1_score(Y_test, pred))\n",
    "print('Recall:',recall_score(Y_test, pred))\n",
    "print('Precision:',precision_score(Y_test, pred))\n",
    "print('\\n clasification report:\\n',classification_report(Y_test, pred))\n",
    "\n",
    "#print(pd.crosstab(pd.Series(Y_test).reset_index(drop=True),pd.Series(pred)))"
   ]
  },
  {
   "cell_type": "code",
   "execution_count": null,
   "metadata": {},
   "outputs": [],
   "source": []
  },
  {
   "cell_type": "code",
   "execution_count": null,
   "metadata": {},
   "outputs": [],
   "source": []
  },
  {
   "cell_type": "code",
   "execution_count": 44,
   "metadata": {
    "ExecuteTime": {
     "end_time": "2019-08-11T12:15:26.315266Z",
     "start_time": "2019-08-11T12:15:26.193222Z"
    }
   },
   "outputs": [],
   "source": [
    "#Modelo: Análise de Discriminante Quadrática\n",
    "clf_qda = LinearDiscriminantAnalysis()\n",
    "model_qda=clf_qda.fit(X_train, Y_train)\n",
    "pred = model_qda.predict(X_test)"
   ]
  },
  {
   "cell_type": "code",
   "execution_count": 45,
   "metadata": {
    "ExecuteTime": {
     "end_time": "2019-08-11T12:15:26.641984Z",
     "start_time": "2019-08-11T12:15:26.321245Z"
    }
   },
   "outputs": [
    {
     "name": "stdout",
     "output_type": "stream",
     "text": [
      "[0.86062246 0.88627451 0.8976378  0.89144317 0.89153439]\n"
     ]
    }
   ],
   "source": [
    "#Cross Validation\n",
    "metrics = cross_val_score(estimator=model_qda, X=X_train, y=Y_train, cv=5, scoring='f1')\n",
    "print(metrics)"
   ]
  },
  {
   "cell_type": "code",
   "execution_count": 46,
   "metadata": {
    "ExecuteTime": {
     "end_time": "2019-08-11T12:15:26.804981Z",
     "start_time": "2019-08-11T12:15:26.646981Z"
    }
   },
   "outputs": [
    {
     "name": "stdout",
     "output_type": "stream",
     "text": [
      "Accuracy: 0.8925556408288565\n",
      "F1 score: 0.8937784522003034\n",
      "Recall: 0.871301775147929\n",
      "Precision: 0.9174454828660437\n",
      "\n",
      " clasification report:\n",
      "               precision    recall  f1-score   support\n",
      "\n",
      "           0       0.87      0.92      0.89       627\n",
      "           1       0.92      0.87      0.89       676\n",
      "\n",
      "    accuracy                           0.89      1303\n",
      "   macro avg       0.89      0.89      0.89      1303\n",
      "weighted avg       0.89      0.89      0.89      1303\n",
      "\n"
     ]
    }
   ],
   "source": [
    "#métricas de Avaliação\n",
    "print('Accuracy:', accuracy_score(Y_test, pred))\n",
    "print('F1 score:', f1_score(Y_test, pred))\n",
    "print('Recall:',recall_score(Y_test, pred))\n",
    "print('Precision:',precision_score(Y_test, pred))\n",
    "print('\\n clasification report:\\n',classification_report(Y_test, pred))\n",
    "\n",
    "#print(pd.crosstab(pd.Series(Y_test).reset_index(drop=True),pd.Series(pred)))"
   ]
  },
  {
   "cell_type": "code",
   "execution_count": null,
   "metadata": {},
   "outputs": [],
   "source": []
  },
  {
   "cell_type": "code",
   "execution_count": null,
   "metadata": {},
   "outputs": [],
   "source": []
  },
  {
   "cell_type": "code",
   "execution_count": 47,
   "metadata": {
    "ExecuteTime": {
     "end_time": "2019-08-11T12:15:32.916797Z",
     "start_time": "2019-08-11T12:15:26.813972Z"
    }
   },
   "outputs": [],
   "source": [
    "#Modelo: XGBoosting\n",
    "parameters={'max_depth': [3,5,7],'n_estimators':[10,25,50]}\n",
    "clf_xgb = XGBClassifier(random_state=123)\n",
    "clf_xgb=GridSearchCV(clf_xgb,parameters,cv=5,scoring = 'f1')\n",
    "model_xgb=clf_xgb.fit(X_train,Y_train)"
   ]
  },
  {
   "cell_type": "code",
   "execution_count": 48,
   "metadata": {
    "ExecuteTime": {
     "end_time": "2019-08-11T12:15:32.927757Z",
     "start_time": "2019-08-11T12:15:32.918760Z"
    }
   },
   "outputs": [
    {
     "name": "stdout",
     "output_type": "stream",
     "text": [
      "{'max_depth': 3, 'n_estimators': 50}\n",
      "[0.88833282 0.89095477 0.89183804 0.88852223 0.88836247 0.88955419\n",
      " 0.88030672 0.88213257 0.88027856]\n"
     ]
    }
   ],
   "source": [
    "#Resultados do tunning\n",
    "print(model_xgb.best_params_)\n",
    "print(model_xgb.cv_results_['mean_test_score'])"
   ]
  },
  {
   "cell_type": "code",
   "execution_count": 49,
   "metadata": {
    "ExecuteTime": {
     "end_time": "2019-08-11T12:15:33.284258Z",
     "start_time": "2019-08-11T12:15:32.930756Z"
    }
   },
   "outputs": [
    {
     "data": {
      "text/plain": [
       "Temp4    0.762003\n",
       "Temp2    0.200066\n",
       "Temp1    0.024180\n",
       "Temp3    0.013751\n",
       "dtype: float32"
      ]
     },
     "execution_count": 49,
     "metadata": {},
     "output_type": "execute_result"
    }
   ],
   "source": [
    "#Feature importance\n",
    "important_features = pd.Series(data=model_xgb.best_estimator_.feature_importances_,index=X_train.columns)\n",
    "important_features.sort_values(ascending=False,inplace=True)\n",
    "important_features"
   ]
  },
  {
   "cell_type": "code",
   "execution_count": 50,
   "metadata": {
    "ExecuteTime": {
     "end_time": "2019-08-11T12:15:33.373225Z",
     "start_time": "2019-08-11T12:15:33.296252Z"
    }
   },
   "outputs": [],
   "source": [
    "#Previsões\n",
    "#model_tree.predict_proba(X_test)[:,1]#probabilidade de o target ser 1\n",
    "pred=model_xgb.predict(X_test)"
   ]
  },
  {
   "cell_type": "code",
   "execution_count": 51,
   "metadata": {
    "ExecuteTime": {
     "end_time": "2019-08-11T12:15:33.633151Z",
     "start_time": "2019-08-11T12:15:33.380199Z"
    }
   },
   "outputs": [
    {
     "name": "stdout",
     "output_type": "stream",
     "text": [
      "Accuracy: 0.9009976976208749\n",
      "F1 score: 0.9029345372460497\n",
      "Recall: 0.8875739644970414\n",
      "Precision: 0.9188361408882083\n",
      "\n",
      " clasification report:\n",
      "               precision    recall  f1-score   support\n",
      "\n",
      "           0       0.88      0.92      0.90       627\n",
      "           1       0.92      0.89      0.90       676\n",
      "\n",
      "    accuracy                           0.90      1303\n",
      "   macro avg       0.90      0.90      0.90      1303\n",
      "weighted avg       0.90      0.90      0.90      1303\n",
      "\n"
     ]
    }
   ],
   "source": [
    "#métricas de Avaliação\n",
    "print('Accuracy:', accuracy_score(Y_test, pred))\n",
    "print('F1 score:', f1_score(Y_test, pred))\n",
    "print('Recall:',recall_score(Y_test, pred))\n",
    "print('Precision:',precision_score(Y_test, pred))\n",
    "print('\\n clasification report:\\n',classification_report(Y_test, pred))\n",
    "\n",
    "#print(pd.crosstab(pd.Series(Y_test).reset_index(drop=True),pd.Series(pred)))"
   ]
  },
  {
   "cell_type": "code",
   "execution_count": null,
   "metadata": {},
   "outputs": [],
   "source": []
  },
  {
   "cell_type": "code",
   "execution_count": null,
   "metadata": {},
   "outputs": [],
   "source": []
  },
  {
   "cell_type": "code",
   "execution_count": 52,
   "metadata": {
    "ExecuteTime": {
     "end_time": "2019-08-11T12:15:35.401078Z",
     "start_time": "2019-08-11T12:15:33.647144Z"
    }
   },
   "outputs": [
    {
     "name": "stdout",
     "output_type": "stream",
     "text": [
      "[1]\tvalid_0's binary_logloss: 0.675852\tvalid_0's f1: 0.779343\n",
      "Training until validation scores don't improve for 100 rounds.\n",
      "[2]\tvalid_0's binary_logloss: 0.64704\tvalid_0's f1: 0.886583\n",
      "[3]\tvalid_0's binary_logloss: 0.632378\tvalid_0's f1: 0.849334\n",
      "[4]\tvalid_0's binary_logloss: 0.607363\tvalid_0's f1: 0.887574\n",
      "[5]\tvalid_0's binary_logloss: 0.595117\tvalid_0's f1: 0.874372\n",
      "[6]\tvalid_0's binary_logloss: 0.572927\tvalid_0's f1: 0.887899\n",
      "[7]\tvalid_0's binary_logloss: 0.562439\tvalid_0's f1: 0.879825\n",
      "[8]\tvalid_0's binary_logloss: 0.542851\tvalid_0's f1: 0.89153\n",
      "[9]\tvalid_0's binary_logloss: 0.533641\tvalid_0's f1: 0.886263\n",
      "[10]\tvalid_0's binary_logloss: 0.515946\tvalid_0's f1: 0.890706\n",
      "[11]\tvalid_0's binary_logloss: 0.508036\tvalid_0's f1: 0.887899\n",
      "[12]\tvalid_0's binary_logloss: 0.492313\tvalid_0's f1: 0.89171\n",
      "[13]\tvalid_0's binary_logloss: 0.485459\tvalid_0's f1: 0.889881\n",
      "[14]\tvalid_0's binary_logloss: 0.471297\tvalid_0's f1: 0.892033\n",
      "[15]\tvalid_0's binary_logloss: 0.465219\tvalid_0's f1: 0.890706\n",
      "[16]\tvalid_0's binary_logloss: 0.452354\tvalid_0's f1: 0.892537\n",
      "[17]\tvalid_0's binary_logloss: 0.44699\tvalid_0's f1: 0.891872\n",
      "[18]\tvalid_0's binary_logloss: 0.435382\tvalid_0's f1: 0.893204\n",
      "[19]\tvalid_0's binary_logloss: 0.430724\tvalid_0's f1: 0.89038\n",
      "[20]\tvalid_0's binary_logloss: 0.42013\tvalid_0's f1: 0.892537\n",
      "[21]\tvalid_0's binary_logloss: 0.41566\tvalid_0's f1: 0.890882\n",
      "[22]\tvalid_0's binary_logloss: 0.406124\tvalid_0's f1: 0.892216\n",
      "[23]\tvalid_0's binary_logloss: 0.402254\tvalid_0's f1: 0.892216\n",
      "[24]\tvalid_0's binary_logloss: 0.393453\tvalid_0's f1: 0.895052\n",
      "[25]\tvalid_0's binary_logloss: 0.3899\tvalid_0's f1: 0.894224\n",
      "[26]\tvalid_0's binary_logloss: 0.382064\tvalid_0's f1: 0.892054\n",
      "[27]\tvalid_0's binary_logloss: 0.378986\tvalid_0's f1: 0.893393\n",
      "[28]\tvalid_0's binary_logloss: 0.371581\tvalid_0's f1: 0.895567\n",
      "[29]\tvalid_0's binary_logloss: 0.369095\tvalid_0's f1: 0.893905\n",
      "[30]\tvalid_0's binary_logloss: 0.362436\tvalid_0's f1: 0.894065\n",
      "[31]\tvalid_0's binary_logloss: 0.360247\tvalid_0's f1: 0.891892\n",
      "[32]\tvalid_0's binary_logloss: 0.35407\tvalid_0's f1: 0.892884\n",
      "[33]\tvalid_0's binary_logloss: 0.352182\tvalid_0's f1: 0.891223\n",
      "[34]\tvalid_0's binary_logloss: 0.346401\tvalid_0's f1: 0.891892\n",
      "[35]\tvalid_0's binary_logloss: 0.344408\tvalid_0's f1: 0.891892\n",
      "[36]\tvalid_0's binary_logloss: 0.339281\tvalid_0's f1: 0.892562\n",
      "[37]\tvalid_0's binary_logloss: 0.337477\tvalid_0's f1: 0.891059\n",
      "[38]\tvalid_0's binary_logloss: 0.332714\tvalid_0's f1: 0.891059\n",
      "[39]\tvalid_0's binary_logloss: 0.331096\tvalid_0's f1: 0.892562\n",
      "[40]\tvalid_0's binary_logloss: 0.326335\tvalid_0's f1: 0.893393\n",
      "[41]\tvalid_0's binary_logloss: 0.325081\tvalid_0's f1: 0.894065\n",
      "[42]\tvalid_0's binary_logloss: 0.321008\tvalid_0's f1: 0.894224\n",
      "[43]\tvalid_0's binary_logloss: 0.319934\tvalid_0's f1: 0.892884\n",
      "[44]\tvalid_0's binary_logloss: 0.316059\tvalid_0's f1: 0.891892\n",
      "[45]\tvalid_0's binary_logloss: 0.315045\tvalid_0's f1: 0.891223\n",
      "[46]\tvalid_0's binary_logloss: 0.311586\tvalid_0's f1: 0.893553\n",
      "[47]\tvalid_0's binary_logloss: 0.310727\tvalid_0's f1: 0.893204\n",
      "[48]\tvalid_0's binary_logloss: 0.307317\tvalid_0's f1: 0.892216\n",
      "[49]\tvalid_0's binary_logloss: 0.306512\tvalid_0's f1: 0.890719\n",
      "[50]\tvalid_0's binary_logloss: 0.303232\tvalid_0's f1: 0.892054\n",
      "[51]\tvalid_0's binary_logloss: 0.302542\tvalid_0's f1: 0.892216\n",
      "[52]\tvalid_0's binary_logloss: 0.299724\tvalid_0's f1: 0.893871\n",
      "[53]\tvalid_0's binary_logloss: 0.299001\tvalid_0's f1: 0.891548\n",
      "[54]\tvalid_0's binary_logloss: 0.296441\tvalid_0's f1: 0.894698\n",
      "[55]\tvalid_0's binary_logloss: 0.295697\tvalid_0's f1: 0.895366\n",
      "[56]\tvalid_0's binary_logloss: 0.293219\tvalid_0's f1: 0.895366\n",
      "[57]\tvalid_0's binary_logloss: 0.292745\tvalid_0's f1: 0.894698\n",
      "[58]\tvalid_0's binary_logloss: 0.290534\tvalid_0's f1: 0.894698\n",
      "[59]\tvalid_0's binary_logloss: 0.289951\tvalid_0's f1: 0.892697\n",
      "[60]\tvalid_0's binary_logloss: 0.287921\tvalid_0's f1: 0.89403\n",
      "[61]\tvalid_0's binary_logloss: 0.287433\tvalid_0's f1: 0.893204\n",
      "[62]\tvalid_0's binary_logloss: 0.285203\tvalid_0's f1: 0.89403\n",
      "[63]\tvalid_0's binary_logloss: 0.28474\tvalid_0's f1: 0.89403\n",
      "[64]\tvalid_0's binary_logloss: 0.282714\tvalid_0's f1: 0.89403\n",
      "[65]\tvalid_0's binary_logloss: 0.282273\tvalid_0's f1: 0.89403\n",
      "[66]\tvalid_0's binary_logloss: 0.280603\tvalid_0's f1: 0.892537\n",
      "[67]\tvalid_0's binary_logloss: 0.28027\tvalid_0's f1: 0.893204\n",
      "[68]\tvalid_0's binary_logloss: 0.278508\tvalid_0's f1: 0.892537\n",
      "[69]\tvalid_0's binary_logloss: 0.277783\tvalid_0's f1: 0.892537\n",
      "[70]\tvalid_0's binary_logloss: 0.276254\tvalid_0's f1: 0.89403\n",
      "[71]\tvalid_0's binary_logloss: 0.276154\tvalid_0's f1: 0.892537\n",
      "[72]\tvalid_0's binary_logloss: 0.274777\tvalid_0's f1: 0.89403\n",
      "[73]\tvalid_0's binary_logloss: 0.274444\tvalid_0's f1: 0.893871\n",
      "[74]\tvalid_0's binary_logloss: 0.273143\tvalid_0's f1: 0.89403\n",
      "[75]\tvalid_0's binary_logloss: 0.273015\tvalid_0's f1: 0.893871\n",
      "[76]\tvalid_0's binary_logloss: 0.271804\tvalid_0's f1: 0.89403\n",
      "[77]\tvalid_0's binary_logloss: 0.271769\tvalid_0's f1: 0.894698\n",
      "[78]\tvalid_0's binary_logloss: 0.270744\tvalid_0's f1: 0.894855\n",
      "[79]\tvalid_0's binary_logloss: 0.270299\tvalid_0's f1: 0.894698\n",
      "[80]\tvalid_0's binary_logloss: 0.269127\tvalid_0's f1: 0.895522\n",
      "[81]\tvalid_0's binary_logloss: 0.269053\tvalid_0's f1: 0.895366\n",
      "[82]\tvalid_0's binary_logloss: 0.268113\tvalid_0's f1: 0.894698\n",
      "[83]\tvalid_0's binary_logloss: 0.26801\tvalid_0's f1: 0.894698\n",
      "[84]\tvalid_0's binary_logloss: 0.267143\tvalid_0's f1: 0.89403\n",
      "[85]\tvalid_0's binary_logloss: 0.267132\tvalid_0's f1: 0.892537\n",
      "[86]\tvalid_0's binary_logloss: 0.266397\tvalid_0's f1: 0.892537\n",
      "[87]\tvalid_0's binary_logloss: 0.266349\tvalid_0's f1: 0.893204\n",
      "[88]\tvalid_0's binary_logloss: 0.265627\tvalid_0's f1: 0.89454\n",
      "[89]\tvalid_0's binary_logloss: 0.265788\tvalid_0's f1: 0.893871\n",
      "[90]\tvalid_0's binary_logloss: 0.265151\tvalid_0's f1: 0.893044\n",
      "[91]\tvalid_0's binary_logloss: 0.265096\tvalid_0's f1: 0.892377\n",
      "[92]\tvalid_0's binary_logloss: 0.264499\tvalid_0's f1: 0.892377\n",
      "[93]\tvalid_0's binary_logloss: 0.264484\tvalid_0's f1: 0.893044\n",
      "[94]\tvalid_0's binary_logloss: 0.263995\tvalid_0's f1: 0.892216\n",
      "[95]\tvalid_0's binary_logloss: 0.26404\tvalid_0's f1: 0.891207\n",
      "[96]\tvalid_0's binary_logloss: 0.263772\tvalid_0's f1: 0.890882\n",
      "[97]\tvalid_0's binary_logloss: 0.26378\tvalid_0's f1: 0.89038\n",
      "[98]\tvalid_0's binary_logloss: 0.263401\tvalid_0's f1: 0.890882\n",
      "[99]\tvalid_0's binary_logloss: 0.263484\tvalid_0's f1: 0.891045\n",
      "[100]\tvalid_0's binary_logloss: 0.263111\tvalid_0's f1: 0.890217\n",
      "[101]\tvalid_0's binary_logloss: 0.263073\tvalid_0's f1: 0.890544\n",
      "[102]\tvalid_0's binary_logloss: 0.262594\tvalid_0's f1: 0.891872\n",
      "[103]\tvalid_0's binary_logloss: 0.262655\tvalid_0's f1: 0.891045\n",
      "[104]\tvalid_0's binary_logloss: 0.262348\tvalid_0's f1: 0.891045\n",
      "[105]\tvalid_0's binary_logloss: 0.26245\tvalid_0's f1: 0.89171\n",
      "[106]\tvalid_0's binary_logloss: 0.262385\tvalid_0's f1: 0.892537\n",
      "[107]\tvalid_0's binary_logloss: 0.262441\tvalid_0's f1: 0.891207\n",
      "[108]\tvalid_0's binary_logloss: 0.262342\tvalid_0's f1: 0.89368\n",
      "[109]\tvalid_0's binary_logloss: 0.262461\tvalid_0's f1: 0.894345\n",
      "[110]\tvalid_0's binary_logloss: 0.262325\tvalid_0's f1: 0.894345\n",
      "[111]\tvalid_0's binary_logloss: 0.262189\tvalid_0's f1: 0.89368\n",
      "[112]\tvalid_0's binary_logloss: 0.262213\tvalid_0's f1: 0.893016\n",
      "[113]\tvalid_0's binary_logloss: 0.262324\tvalid_0's f1: 0.893016\n",
      "[114]\tvalid_0's binary_logloss: 0.262179\tvalid_0's f1: 0.893016\n",
      "[115]\tvalid_0's binary_logloss: 0.262358\tvalid_0's f1: 0.893016\n",
      "[116]\tvalid_0's binary_logloss: 0.262197\tvalid_0's f1: 0.893016\n",
      "[117]\tvalid_0's binary_logloss: 0.26236\tvalid_0's f1: 0.891369\n",
      "[118]\tvalid_0's binary_logloss: 0.262141\tvalid_0's f1: 0.892353\n",
      "[119]\tvalid_0's binary_logloss: 0.262166\tvalid_0's f1: 0.890706\n",
      "[120]\tvalid_0's binary_logloss: 0.262238\tvalid_0's f1: 0.893016\n",
      "[121]\tvalid_0's binary_logloss: 0.262227\tvalid_0's f1: 0.892193\n",
      "[122]\tvalid_0's binary_logloss: 0.262137\tvalid_0's f1: 0.891369\n",
      "[123]\tvalid_0's binary_logloss: 0.261783\tvalid_0's f1: 0.892857\n",
      "[124]\tvalid_0's binary_logloss: 0.261364\tvalid_0's f1: 0.892033\n",
      "[125]\tvalid_0's binary_logloss: 0.261163\tvalid_0's f1: 0.891872\n",
      "[126]\tvalid_0's binary_logloss: 0.260754\tvalid_0's f1: 0.891207\n",
      "[127]\tvalid_0's binary_logloss: 0.260761\tvalid_0's f1: 0.891045\n",
      "[128]\tvalid_0's binary_logloss: 0.260711\tvalid_0's f1: 0.892537\n",
      "Early stopping, best iteration is:\n",
      "[28]\tvalid_0's binary_logloss: 0.371581\tvalid_0's f1: 0.895567\n"
     ]
    }
   ],
   "source": [
    "#Modelo: Lightgbm'\n",
    "train_data = lgbm.Dataset(X_train, label=Y_train)\n",
    "test_data = lgbm.Dataset(X_test, label=Y_test)\n",
    "\n",
    "def lgb_f1_score(y_hat, data):\n",
    "    y_true = data.get_label()\n",
    "    y_hat = np.round(y_hat)\n",
    "    return 'f1', f1_score(y_true, y_hat), True\n",
    "\n",
    "parameters = {\n",
    "    'application': 'binary',\n",
    "    'objective': 'binary',\n",
    "    #'metric': 'auc',\n",
    "    'is_unbalance': 'true',\n",
    "    'boosting': 'gbdt',\n",
    "    'num_leaves': 31,\n",
    "    'feature_fraction': 0.5,\n",
    "    'bagging_fraction': 0.8,\n",
    "    'bagging_freq': 20,\n",
    "    'learning_rate': 0.05,\n",
    "    'verbose': 0\n",
    "}\n",
    "\n",
    "model_lgbm = lgbm.train(parameters,\n",
    "                       train_data,\n",
    "                       feval=lgb_f1_score,\n",
    "                       valid_sets=test_data,\n",
    "                       num_boost_round=5000,\n",
    "                       early_stopping_rounds=100)"
   ]
  },
  {
   "cell_type": "code",
   "execution_count": 53,
   "metadata": {
    "ExecuteTime": {
     "end_time": "2019-08-11T12:15:35.417049Z",
     "start_time": "2019-08-11T12:15:35.404056Z"
    }
   },
   "outputs": [
    {
     "data": {
      "text/plain": [
       "Temp3    225\n",
       "Temp2    220\n",
       "Temp1    200\n",
       "Temp4    195\n",
       "dtype: int32"
      ]
     },
     "execution_count": 53,
     "metadata": {},
     "output_type": "execute_result"
    }
   ],
   "source": [
    "#Feature importance\n",
    "important_features = pd.Series(data=model_lgbm.feature_importance(),index=X_train.columns)\n",
    "important_features.sort_values(ascending=False,inplace=True)\n",
    "important_features"
   ]
  },
  {
   "cell_type": "code",
   "execution_count": 54,
   "metadata": {
    "ExecuteTime": {
     "end_time": "2019-08-11T12:15:35.569291Z",
     "start_time": "2019-08-11T12:15:35.421047Z"
    }
   },
   "outputs": [],
   "source": [
    "#Previsões\n",
    "pred = model_lgbm.predict(X_test, num_iteration=model_lgbm.best_iteration)\n",
    "pred=[1 if x>=0.5 else 0 for x in pred]"
   ]
  },
  {
   "cell_type": "code",
   "execution_count": 55,
   "metadata": {
    "ExecuteTime": {
     "end_time": "2019-08-11T12:15:35.781381Z",
     "start_time": "2019-08-11T12:15:35.572221Z"
    }
   },
   "outputs": [
    {
     "name": "stdout",
     "output_type": "stream",
     "text": [
      "Accuracy: 0.8933231005372217\n",
      "F1 score: 0.8955672426746807\n",
      "Recall: 0.8816568047337278\n",
      "Precision: 0.9099236641221374\n",
      "\n",
      " clasification report:\n",
      "               precision    recall  f1-score   support\n",
      "\n",
      "           0       0.88      0.91      0.89       627\n",
      "           1       0.91      0.88      0.90       676\n",
      "\n",
      "    accuracy                           0.89      1303\n",
      "   macro avg       0.89      0.89      0.89      1303\n",
      "weighted avg       0.89      0.89      0.89      1303\n",
      "\n"
     ]
    }
   ],
   "source": [
    "#métricas de Avaliação\n",
    "print('Accuracy:', accuracy_score(Y_test, pred))\n",
    "print('F1 score:', f1_score(Y_test, pred))\n",
    "print('Recall:',recall_score(Y_test, pred))\n",
    "print('Precision:',precision_score(Y_test, pred))\n",
    "print('\\n clasification report:\\n',classification_report(Y_test, pred))\n",
    "\n",
    "#print(pd.crosstab(pd.Series(Y_test).reset_index(drop=True),pd.Series(pred)))"
   ]
  },
  {
   "cell_type": "code",
   "execution_count": 56,
   "metadata": {
    "ExecuteTime": {
     "end_time": "2019-08-11T12:15:38.076520Z",
     "start_time": "2019-08-11T12:15:35.793370Z"
    }
   },
   "outputs": [],
   "source": [
    "parameters={'max_depth': [3,5,7],'n_estimators':[10,25,50]}\n",
    "clf_lgbm = lgbm.LGBMClassifier(boosting_type='gbdt',  objective='binary', \n",
    "                               learning_rate=0.01, metric='f1',n_jobs=1)\n",
    "\n",
    "clf_lgbm = GridSearchCV(estimator=clf_lgbm, param_grid=parameters, cv=5)\n",
    "model_lgbm = clf_lgbm.fit(X=X_train, y=Y_train)"
   ]
  },
  {
   "cell_type": "code",
   "execution_count": 57,
   "metadata": {
    "ExecuteTime": {
     "end_time": "2019-08-11T12:15:38.087481Z",
     "start_time": "2019-08-11T12:15:38.078487Z"
    }
   },
   "outputs": [
    {
     "name": "stdout",
     "output_type": "stream",
     "text": [
      "{'max_depth': 3, 'n_estimators': 50}\n",
      "[0.89170507 0.890681   0.8937532  0.89272913 0.89119304 0.89247312\n",
      " 0.88837686 0.89016897 0.89272913]\n"
     ]
    }
   ],
   "source": [
    "#Resultados do tunning\n",
    "print(model_lgbm.best_params_)\n",
    "print(model_lgbm.cv_results_['mean_test_score'])"
   ]
  },
  {
   "cell_type": "code",
   "execution_count": 58,
   "metadata": {
    "ExecuteTime": {
     "end_time": "2019-08-11T12:15:38.391397Z",
     "start_time": "2019-08-11T12:15:38.091478Z"
    }
   },
   "outputs": [
    {
     "data": {
      "text/plain": [
       "Temp4    193\n",
       "Temp2    157\n",
       "Temp3      0\n",
       "Temp1      0\n",
       "dtype: int32"
      ]
     },
     "execution_count": 58,
     "metadata": {},
     "output_type": "execute_result"
    }
   ],
   "source": [
    "#Feature importance\n",
    "important_features = pd.Series(data=model_lgbm.best_estimator_.feature_importances_,index=X_train.columns)\n",
    "important_features.sort_values(ascending=False,inplace=True)\n",
    "important_features"
   ]
  },
  {
   "cell_type": "code",
   "execution_count": 59,
   "metadata": {
    "ExecuteTime": {
     "end_time": "2019-08-11T12:15:38.600494Z",
     "start_time": "2019-08-11T12:15:38.403359Z"
    }
   },
   "outputs": [],
   "source": [
    "#Previsões\n",
    "pred = model_lgbm.predict(X_test)"
   ]
  },
  {
   "cell_type": "code",
   "execution_count": 60,
   "metadata": {
    "ExecuteTime": {
     "end_time": "2019-08-11T12:15:38.795593Z",
     "start_time": "2019-08-11T12:15:38.609443Z"
    }
   },
   "outputs": [
    {
     "name": "stdout",
     "output_type": "stream",
     "text": [
      "Accuracy: 0.9009976976208749\n",
      "F1 score: 0.9035153328347046\n",
      "Recall: 0.893491124260355\n",
      "Precision: 0.913767019667171\n",
      "\n",
      " clasification report:\n",
      "               precision    recall  f1-score   support\n",
      "\n",
      "           0       0.89      0.91      0.90       627\n",
      "           1       0.91      0.89      0.90       676\n",
      "\n",
      "    accuracy                           0.90      1303\n",
      "   macro avg       0.90      0.90      0.90      1303\n",
      "weighted avg       0.90      0.90      0.90      1303\n",
      "\n"
     ]
    }
   ],
   "source": [
    "#métricas de Avaliação\n",
    "print('Accuracy:', accuracy_score(Y_test, pred))\n",
    "print('F1 score:', f1_score(Y_test, pred))\n",
    "print('Recall:',recall_score(Y_test, pred))\n",
    "print('Precision:',precision_score(Y_test, pred))\n",
    "print('\\n clasification report:\\n',classification_report(Y_test, pred))\n",
    "\n",
    "#print(pd.crosstab(pd.Series(Y_test).reset_index(drop=True),pd.Series(pred)))"
   ]
  },
  {
   "cell_type": "code",
   "execution_count": null,
   "metadata": {},
   "outputs": [],
   "source": []
  },
  {
   "cell_type": "code",
   "execution_count": null,
   "metadata": {},
   "outputs": [],
   "source": []
  },
  {
   "cell_type": "code",
   "execution_count": null,
   "metadata": {},
   "outputs": [],
   "source": []
  },
  {
   "cell_type": "code",
   "execution_count": 61,
   "metadata": {
    "ExecuteTime": {
     "end_time": "2019-08-11T12:15:38.905113Z",
     "start_time": "2019-08-11T12:15:38.800591Z"
    }
   },
   "outputs": [],
   "source": [
    "models = []\n",
    "models.append(('Árvore de decisão', model_tree))\n",
    "models.append(('Regressão Logística', model_lg))\n",
    "models.append(('Naive Bayes', model_naive))\n",
    "models.append(('Random Forest', model_rf))\n",
    "models.append(('Gradiente Boosting', model_gb))\n",
    "models.append(('XG Boosting', model_xgb))\n",
    "models.append(('Light GBM', model_lgbm))\n",
    "#models.append(('SVM', model_svm))\n",
    "models.append(('KNN', model_knn))\n",
    "models.append(('LDA', model_lda))\n",
    "models.append(('QDA', model_qda))"
   ]
  },
  {
   "cell_type": "code",
   "execution_count": 62,
   "metadata": {
    "ExecuteTime": {
     "end_time": "2019-08-11T12:15:39.439893Z",
     "start_time": "2019-08-11T12:15:38.908114Z"
    }
   },
   "outputs": [
    {
     "name": "stdout",
     "output_type": "stream",
     "text": [
      "Árvore de decisão: 0.897744\n",
      "Regressão Logística: 0.902602\n",
      "Naive Bayes: 0.902788\n",
      "Random Forest: 0.905375\n",
      "Gradiente Boosting: 0.906507\n",
      "XG Boosting: 0.902935\n",
      "Light GBM: 0.903515\n",
      "KNN: 0.896760\n",
      "LDA: 0.893778\n",
      "QDA: 0.893778\n"
     ]
    }
   ],
   "source": [
    "#Comparação de modelos\n",
    "def comparison_models(models,metrics,Y_test,X_test):\n",
    "    '''\n",
    "    Função que avalia o desempenho de modelos na base de teste.\n",
    "    | Parâmetros:\n",
    "    | -- models: Modelos para serem comparados.\n",
    "    | -- metrics: Métrica de avaliação.\n",
    "    | -- Y_test: Y da base teste/validação.\n",
    "    | -- X_test: Base de teste/validação.\n",
    "    '''\n",
    "    results = []\n",
    "    names = []\n",
    "    for name, model in models:\n",
    "        pred=model.predict(X_test)\n",
    "        out = eval(metrics+'_score(Y_test, pred)')\n",
    "        results.append(out)\n",
    "        names.append(name)\n",
    "        msg = \"%s: %f\" % (name, out)\n",
    "        print(msg)\n",
    "comparison_models(models,'f1',Y_test,X_test)"
   ]
  },
  {
   "cell_type": "code",
   "execution_count": 63,
   "metadata": {
    "ExecuteTime": {
     "end_time": "2019-08-11T12:15:39.454899Z",
     "start_time": "2019-08-11T12:15:39.444889Z"
    }
   },
   "outputs": [],
   "source": [
    "#Salvando modelo\n",
    "import pickle\n",
    "filename = 'finalized_model.sav'\n",
    "pickle.dump(model_rf, open(filename, 'wb'))"
   ]
  },
  {
   "cell_type": "code",
   "execution_count": 65,
   "metadata": {
    "ExecuteTime": {
     "end_time": "2019-08-11T12:17:39.700772Z",
     "start_time": "2019-08-11T12:17:39.674768Z"
    }
   },
   "outputs": [
    {
     "name": "stdout",
     "output_type": "stream",
     "text": [
      "0.9053747161241483\n"
     ]
    }
   ],
   "source": [
    "#Carregando o modelo salvo e predizendo dados\n",
    "loaded_model = pickle.load(open(filename, 'rb'))\n",
    "result = loaded_model.predict(X_test)\n",
    "print(f1_score(Y_test, result))"
   ]
  },
  {
   "cell_type": "code",
   "execution_count": null,
   "metadata": {},
   "outputs": [],
   "source": []
  },
  {
   "cell_type": "code",
   "execution_count": null,
   "metadata": {},
   "outputs": [],
   "source": []
  }
 ],
 "metadata": {
  "kernelspec": {
   "display_name": "Python 3",
   "language": "python",
   "name": "python3"
  },
  "language_info": {
   "codemirror_mode": {
    "name": "ipython",
    "version": 3
   },
   "file_extension": ".py",
   "mimetype": "text/x-python",
   "name": "python",
   "nbconvert_exporter": "python",
   "pygments_lexer": "ipython3",
   "version": "3.7.4"
  }
 },
 "nbformat": 4,
 "nbformat_minor": 4
}
